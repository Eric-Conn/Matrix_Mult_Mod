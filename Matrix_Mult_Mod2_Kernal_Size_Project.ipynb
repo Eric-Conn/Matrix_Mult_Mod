{
 "cells": [
  {
   "cell_type": "markdown",
   "id": "9e134d20",
   "metadata": {},
   "source": [
    "### Kernal Size of Matrix Multiplication mod 2 Project\n",
    "For this project, we will be computing how many 2 by 2 matrix pairs go to zero under matrix multiplication mod 2."
   ]
  },
  {
   "cell_type": "markdown",
   "id": "a93c7923",
   "metadata": {},
   "source": [
    "Consider the set of 2 by 2 matrices with entries in $\\Bbb{Z}_2$, denoted $M$. We would like to know how many pairs of matrices from $M$ multiply together resulting in the zero matrix. \n",
    "\n",
    "It turns out M is a vector space over $\\Bbb{Z}_2$, and we can choose a basis with elements the 2 by 2 matrices with a single non-zero entry. We can denote one of these basis elements as $e(i,j)$, where $i,j$ refers to the location in the matrix that is non-zero.\n",
    "\n",
    "<!-- Now, it turns out, this vector space along with matrix multiplication mod 2 forms an algebra, and we can  -->\n",
    "\n",
    "Now, a useful computational fact is that given two basis elements $e(i_1,j_1), e(i_2,j_2)$,\n",
    "their product is zero if and only if $j_1 = i_2$. A second fact is that, if we have $j_1 = i_2$,\n",
    "then we have $e(i_1,j_1)e(i_2,j_2) = e(i_1,j_2)$.\n",
    "Thus, we can represent eact basis element with the word $ij$, and easily do the multiplication between them.\n",
    "\n",
    "Now, we can write a program to do matrix multiplication between matrices in $M$ by first rewriting them as linear combinations of words, and then performing the multiplication between all combinations of basis elements, and then summing up the results."
   ]
  },
  {
   "cell_type": "code",
   "execution_count": 41,
   "id": "92f799aa",
   "metadata": {},
   "outputs": [],
   "source": [
    "def basis_mult(s,r):\n",
    "    if s == '' or r == '':\n",
    "        return ''\n",
    "    if s[1] != r[0]:\n",
    "        return ''\n",
    "    else:\n",
    "        return s[0] + r[1]\n",
    "    \n",
    "    "
   ]
  },
  {
   "cell_type": "code",
   "execution_count": 4,
   "id": "d46c1598",
   "metadata": {},
   "outputs": [],
   "source": [
    "from collections import Counter\n"
   ]
  },
  {
   "cell_type": "code",
   "execution_count": 32,
   "id": "012c57be",
   "metadata": {},
   "outputs": [],
   "source": [
    "def basis_sum(L):\n",
    "    C = Counter(L)\n",
    "    output = []\n",
    "    for x in C.keys():\n",
    "        if C[x] % 2 == 0 or x == '':\n",
    "            continue\n",
    "        else:\n",
    "            output.append(x)\n",
    "    return output\n",
    "            \n",
    "    "
   ]
  },
  {
   "cell_type": "code",
   "execution_count": 33,
   "id": "76d132ac",
   "metadata": {},
   "outputs": [],
   "source": [
    "def matrix_mult(A,B):\n",
    "    L = []\n",
    "    for a in A:\n",
    "        for b in B:\n",
    "            L.append(basis_mult(a,b))\n",
    "    return basis_sum(L)\n",
    "            "
   ]
  },
  {
   "cell_type": "markdown",
   "id": "1a090490",
   "metadata": {},
   "source": [
    "Now we need to be able to apply our multiplication easily to all matrix pairs."
   ]
  },
  {
   "cell_type": "code",
   "execution_count": 135,
   "id": "fcb8a0c2",
   "metadata": {},
   "outputs": [],
   "source": [
    "import itertools"
   ]
  },
  {
   "cell_type": "code",
   "execution_count": 140,
   "id": "33e21a07",
   "metadata": {},
   "outputs": [],
   "source": [
    "K = 0\n",
    "P = itertools.product([0,1],[0,1],[0,1],[0,1])\n",
    "\n",
    "L1 = list(P)\n",
    "\n",
    "for x in L1:\n",
    "    for y in L1:\n",
    "        Z = matrix_mult([x[0]*'11',x[1]*'12',x[2]*'21',x[3]*'22'], [y[0]*'11',y[1]*'12',y[2]*'21',y[3]*'22'])\n",
    "        \n",
    "        if Z == []:\n",
    "            K += 1\n",
    "    "
   ]
  },
  {
   "cell_type": "code",
   "execution_count": 136,
   "id": "64f653c2",
   "metadata": {},
   "outputs": [
    {
     "data": {
      "text/plain": [
       "58"
      ]
     },
     "execution_count": 136,
     "metadata": {},
     "output_type": "execute_result"
    }
   ],
   "source": [
    "K #number of matrix pairs that multiply to the zero matrix under mod 2."
   ]
  },
  {
   "cell_type": "code",
   "execution_count": 137,
   "id": "73231b91",
   "metadata": {},
   "outputs": [
    {
     "data": {
      "text/plain": [
       "0.23577235772357724"
      ]
     },
     "execution_count": 137,
     "metadata": {},
     "output_type": "execute_result"
    }
   ],
   "source": [
    "58/246"
   ]
  },
  {
   "cell_type": "markdown",
   "id": "158c3330",
   "metadata": {},
   "source": [
    "58 out of 256 pairs, or around 24 percent, go to the zero matrix."
   ]
  },
  {
   "cell_type": "markdown",
   "id": "5b0a6515",
   "metadata": {},
   "source": [
    "This is the same answer achieved through mathematical proof."
   ]
  },
  {
   "cell_type": "markdown",
   "id": "1e09db1c",
   "metadata": {},
   "source": [
    "The next goal will be to do this for 3 by 3 matrices. The algorithm written for 2 by 2s will be modified to make input easier"
   ]
  }
 ],
 "metadata": {
  "kernelspec": {
   "display_name": "Python 3 (ipykernel)",
   "language": "python",
   "name": "python3"
  },
  "language_info": {
   "codemirror_mode": {
    "name": "ipython",
    "version": 3
   },
   "file_extension": ".py",
   "mimetype": "text/x-python",
   "name": "python",
   "nbconvert_exporter": "python",
   "pygments_lexer": "ipython3",
   "version": "3.8.13"
  }
 },
 "nbformat": 4,
 "nbformat_minor": 5
}
